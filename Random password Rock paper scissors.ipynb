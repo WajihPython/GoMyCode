{
 "cells": [
  {
   "cell_type": "code",
   "execution_count": 9,
   "id": "73e4a218",
   "metadata": {},
   "outputs": [
    {
     "name": "stdout",
     "output_type": "stream",
     "text": [
      "Welcome to the PyPassword Generator!\n",
      "How many letters would you like in your password?2\n",
      "How many symbols would you like?2\n",
      "How many numbers would you like?2\n",
      "['m', 'R', '6', '6', '&', '!']\n",
      "!6R&m6\n"
     ]
    }
   ],
   "source": [
    "import random\n",
    "letters = ['a', 'b', 'c', 'd', 'e', 'f', 'g', 'h', 'i', 'j', 'k', 'l', 'm', 'n', 'o', 'p',\n",
    "           'q', 'r', 's', 't', 'u', 'v', 'w', 'x', 'y', 'z', 'A', 'B', 'C', 'D', 'E', 'F', \n",
    "           'G', 'H', 'I', 'J', 'K', 'L', 'M', 'N', 'O', 'P', 'Q', 'R', 'S', 'T', 'U', 'V', 'W', 'X', 'Y', 'Z']\n",
    "numbers = ['0', '1', '2', '3', '4', '5', '6', '7', '8', '9']\n",
    "symbols = ['!', '#', '$', '%', '&', '(', ')', '*', '+']\n",
    "\n",
    "\n",
    "print(\"Welcome to the PyPassword Generator!\")\n",
    "nb_letters = int(input(\"How many letters would you like in your password?\")) \n",
    "nb_symbols = int(input(\"How many symbols would you like?\"))\n",
    "nb_numbers = int(input(\"How many numbers would you like?\"))\n",
    "                       \n",
    "                       \n",
    "password_list=[]\n",
    "for i in range(nb_letters):\n",
    "    password_list.append(random.choice(letters))\n",
    "for i in range(nb_numbers):\n",
    "    password_list += random.choice(numbers)\n",
    "for i in range(nb_symbols):\n",
    "    password_list += random.choice(symbols)\n",
    "print (password_list)\n",
    "random.shuffle(password_list)\n",
    "\n",
    "password=\"\"\n",
    "for i in password_list:\n",
    "    password += i\n",
    "print(password)"
   ]
  },
  {
   "cell_type": "code",
   "execution_count": 24,
   "id": "d430d6a1",
   "metadata": {},
   "outputs": [
    {
     "name": "stdout",
     "output_type": "stream",
     "text": [
      "play  1\n",
      "computer_choice :  0\n",
      "you win\n"
     ]
    }
   ],
   "source": [
    "import random\n",
    "user_choice = int(input(\"play  \"))\n",
    "computer_choice = random.randrange(2)\n",
    "print (\"computer_choice : \",computer_choice)\n",
    "\n",
    "if (user_choice == 0 and computer_choice == 1):\n",
    "    print (\"you lost\")\n",
    "elif (user_choice == 0 and computer_choice == 2):\n",
    "    print (\"you win\")\n",
    "elif (user_choice == 1 and computer_choice == 0):\n",
    "    print (\"you win\")\n",
    "elif (user_choice == 1 and computer_choice == 2):\n",
    "    print (\"you win\")\n",
    "elif (user_choice == 2 and computer_choice == 1):\n",
    "    print (\"you win\")\n",
    "elif (user_choice == 2 and computer_choice == 0):\n",
    "    print (\"you lost\")\n",
    "else :\n",
    "    print (\"égalité\")"
   ]
  },
  {
   "cell_type": "code",
   "execution_count": null,
   "id": "a82700bd",
   "metadata": {},
   "outputs": [],
   "source": []
  },
  {
   "cell_type": "code",
   "execution_count": null,
   "id": "7282ded4",
   "metadata": {},
   "outputs": [],
   "source": []
  }
 ],
 "metadata": {
  "kernelspec": {
   "display_name": "Python 3 (ipykernel)",
   "language": "python",
   "name": "python3"
  },
  "language_info": {
   "codemirror_mode": {
    "name": "ipython",
    "version": 3
   },
   "file_extension": ".py",
   "mimetype": "text/x-python",
   "name": "python",
   "nbconvert_exporter": "python",
   "pygments_lexer": "ipython3",
   "version": "3.9.12"
  }
 },
 "nbformat": 4,
 "nbformat_minor": 5
}
